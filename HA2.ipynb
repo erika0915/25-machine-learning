{
  "nbformat": 4,
  "nbformat_minor": 0,
  "metadata": {
    "colab": {
      "provenance": [],
      "include_colab_link": true
    },
    "kernelspec": {
      "name": "python3",
      "display_name": "Python 3"
    },
    "language_info": {
      "name": "python"
    }
  },
  "cells": [
    {
      "cell_type": "markdown",
      "metadata": {
        "id": "view-in-github",
        "colab_type": "text"
      },
      "source": [
        "<a href=\"https://colab.research.google.com/github/erika0915/25-machine-learning/blob/main/HA2.ipynb\" target=\"_parent\"><img src=\"https://colab.research.google.com/assets/colab-badge.svg\" alt=\"Open In Colab\"/></a>"
      ]
    },
    {
      "cell_type": "markdown",
      "source": [
        "# Hands-On Assignment 2\n",
        "\n",
        "2-1. Support vector machines with Iris dataset\n",
        "\n",
        "## After finishing writing the code for each problem, submit your ipynb file (i.e., this file) to Cybercampus by **10/24 Friday 23:59**"
      ],
      "metadata": {
        "id": "QCbiHYv3Uq7I"
      }
    },
    {
      "cell_type": "markdown",
      "source": [
        "### Submitters are as follows.\n",
        " *Note that hands-on assignments can be done collaboratively (**up to 2 students**)*\n",
        "\n",
        "    Name: 최수희\n",
        "    Student ID: 2271104"
      ],
      "metadata": {
        "id": "IRkbqoriU22k"
      }
    },
    {
      "cell_type": "markdown",
      "source": [
        "\n",
        "\n",
        "---\n",
        "\n",
        "\n",
        "## 2-1. Support vector machines with Iris dataset\n",
        "\n",
        "\n",
        "---\n",
        "\n"
      ],
      "metadata": {
        "id": "DouDIPWNU67k"
      }
    },
    {
      "cell_type": "markdown",
      "source": [
        "Download the dataset\n",
        "\n",
        "\n",
        "*   data source: scikit-learn library\n",
        "\n"
      ],
      "metadata": {
        "id": "fuMOGBXgVExZ"
      }
    },
    {
      "cell_type": "code",
      "execution_count": 4,
      "metadata": {
        "id": "sz3ul1oQS_hz"
      },
      "outputs": [],
      "source": [
        "from sklearn.datasets import load_iris\n",
        "\n",
        "# Scikit-learn 라이브러리에 내장된 Iris 데이터셋 불러오기\n",
        "iris_dataset = load_iris()"
      ]
    },
    {
      "cell_type": "markdown",
      "source": [
        "## Goal: Train Support vector machines to predict y (species of flower) based on provided features (SepalLength, SepalWidth, PetalLength, PetalWidth)\n",
        "❗❗READ CAREFULLY ⬇\n",
        "\n",
        "*   Use Scikit-learn library directly\n",
        "*   TO-DO:\n",
        "  1. Split the dataset into training and testing sets (training:testing=75:25)\n",
        "  2. Use \"StandardScaler\" function (provided in HA1_part1) to map all points to have mean=0 and std=1\n",
        "  3. First, train and test SVM using linear kernel\n",
        "    *   Report the accuracy\n",
        "    *   After that, by using 5-fold cross validation, again report accuracies from each fold and the mean accuracy after taking the mean on five accuracies.\n",
        "  4. Second, train and test SVM using RBF kernel\n",
        "    *   use C=1, gamma=0.01\n",
        "    *   Report the accuracy\n",
        "    *   After that, by using 5-fold cross validation, again report accuracies from each fold and the mean accuracy after taking the mean on five accuracies.\n",
        "  5. Hyperparemter tuning by using Grid Search (i.e., from sklearn.model_selection import GridSearchCV)\n",
        "    *   Parameter search space must include three kernels (['rbf', 'poly', 'sigmoid'], C ([0.1,1, 10, 100]) and gamma ([1,0.1,0.01,0.001]))\n",
        "    *   Report best parameters and accuracy based on them\n",
        "  6. Extend your discussion on why chosen kernel works more effectively than others and whether hyperparmeter tuning helps perfomrance improvement."
      ],
      "metadata": {
        "id": "YejKxrzpVZUO"
      }
    },
    {
      "cell_type": "markdown",
      "source": [
        "#### 1. Split the dataset"
      ],
      "metadata": {
        "id": "9asAP4nHfXyD"
      }
    },
    {
      "cell_type": "code",
      "source": [
        "from sklearn.model_selection import train_test_split\n",
        "\n",
        "X = iris_dataset.data\n",
        "y = iris_dataset.target\n",
        "\n",
        "X_train, X_test, y_train, y_test = train_test_split(X, y, test_size=0.25, random_state=42)"
      ],
      "metadata": {
        "id": "cP3zP6n6fbVC"
      },
      "execution_count": 5,
      "outputs": []
    },
    {
      "cell_type": "code",
      "source": [
        "print(\"X_train shape:\", X_train.shape)\n",
        "print(\"X_test shape:\", X_test.shape)\n",
        "print(\"y_train shape:\", y_train.shape)\n",
        "print(\"y_test shape:\", y_test.shape)"
      ],
      "metadata": {
        "colab": {
          "base_uri": "https://localhost:8080/"
        },
        "id": "cAHEuq5g25b_",
        "outputId": "e9d8ab1a-7635-4ab6-b37d-3c2a0050f237"
      },
      "execution_count": 6,
      "outputs": [
        {
          "output_type": "stream",
          "name": "stdout",
          "text": [
            "X_train shape: (112, 4)\n",
            "X_test shape: (38, 4)\n",
            "y_train shape: (112,)\n",
            "y_test shape: (38,)\n"
          ]
        }
      ]
    },
    {
      "cell_type": "markdown",
      "source": [
        "#### 2. Standardization"
      ],
      "metadata": {
        "id": "v3zXAEsu4rKn"
      }
    },
    {
      "cell_type": "code",
      "source": [
        "from sklearn.preprocessing import StandardScaler\n",
        "\n",
        "scaler = StandardScaler()\n",
        "\n",
        "X_train_scaled = scaler.fit_transform(X_train)\n",
        "X_test_scaled = scaler.transform(X_test)"
      ],
      "metadata": {
        "id": "bEpEF9YB4yQe"
      },
      "execution_count": 7,
      "outputs": []
    },
    {
      "cell_type": "markdown",
      "source": [
        "#### 3. SVM (linear)\n",
        "- 테스트 데이터로 정확도 측정\n",
        "- 5-fold cross-validation 실행"
      ],
      "metadata": {
        "id": "vvfzm1eg5qzS"
      }
    },
    {
      "cell_type": "code",
      "source": [
        "from sklearn.svm import SVC\n",
        "from sklearn.metrics import accuracy_score\n",
        "from sklearn.model_selection import cross_val_score\n",
        "import numpy as np\n",
        "\n",
        "# 선형 커널을 사용하는 SVM 모델 생성\n",
        "linear_svm = SVC(kernel='linear')\n",
        "\n",
        "linear_svm.fit(X_train_scaled, y_train)\n",
        "y_pred = linear_svm.predict(X_test_scaled)\n",
        "\n",
        "accuracy = accuracy_score(y_test, y_pred)\n",
        "print(f\"Linear SVM Accuracy on the test set : {accuracy: .4f}\")\n"
      ],
      "metadata": {
        "colab": {
          "base_uri": "https://localhost:8080/"
        },
        "id": "LG5Sgi7c50J7",
        "outputId": "7174f510-9161-488c-f106-3fbe7b26a129"
      },
      "execution_count": 13,
      "outputs": [
        {
          "output_type": "stream",
          "name": "stdout",
          "text": [
            "Linear SVM Accuracy on the test set :  0.9737\n"
          ]
        }
      ]
    },
    {
      "cell_type": "code",
      "source": [
        "scores = cross_val_score(linear_svm, X_train_scaled, y_train, cv=5)\n",
        "\n",
        "print(\"Cross validation Scores :\", scores)\n",
        "print(f\"Mean Accuracy from Cross validation :{np.mean(scores):.4f}\")"
      ],
      "metadata": {
        "colab": {
          "base_uri": "https://localhost:8080/"
        },
        "id": "cuqrShY_6YZE",
        "outputId": "123e3e52-4d89-4ff7-874b-a939f35baeb4"
      },
      "execution_count": 14,
      "outputs": [
        {
          "output_type": "stream",
          "name": "stdout",
          "text": [
            "Cross validation Scores : [0.95652174 1.         0.81818182 1.         0.95454545]\n",
            "Mean Accuracy from Cross validation :0.9458\n"
          ]
        }
      ]
    },
    {
      "cell_type": "markdown",
      "source": [
        "#### 4. SVM (RBF 커널)\n",
        "- 테스트 데이터로 정확도 측정\n",
        "- 5-fold cross-validation 실행"
      ],
      "metadata": {
        "id": "zLNzYTP36-Au"
      }
    },
    {
      "cell_type": "code",
      "source": [
        "# RBF 커널을 사용하는 SVM 생성\n",
        "rbf_svm = SVC(kernel='rbf', C=1, gamma=0.01)\n",
        "\n",
        "rbf_svm.fit(X_train_scaled, y_train)\n",
        "y_pred_rbf = rbf_svm.predict(X_test_scaled)\n",
        "\n",
        "accuracy_rbf = accuracy_score(y_test, y_pred_rbf)\n",
        "print(f\"RBF SVM Accuracy on the test set : {accuracy_rbf:.4f}\")"
      ],
      "metadata": {
        "colab": {
          "base_uri": "https://localhost:8080/"
        },
        "id": "1QmCUNj77BfG",
        "outputId": "055db7b4-f5a7-45d3-9db3-b876d1a257da"
      },
      "execution_count": 15,
      "outputs": [
        {
          "output_type": "stream",
          "name": "stdout",
          "text": [
            "RBF SVM Accuracy on the test set : 0.9737\n"
          ]
        }
      ]
    },
    {
      "cell_type": "code",
      "source": [
        "scores = cross_val_score(rbf_svm, X_train_scaled, y_train, cv=5)\n",
        "\n",
        "print(\"Cross validation Scores :\", scores)\n",
        "print(f\"Mean Accuracy from Cross validation :{np.mean(scores):.4f}\")"
      ],
      "metadata": {
        "colab": {
          "base_uri": "https://localhost:8080/"
        },
        "id": "gjiKafN27kWf",
        "outputId": "4369a3ed-52f5-41e2-aef6-8dfd54e2fbc8"
      },
      "execution_count": 16,
      "outputs": [
        {
          "output_type": "stream",
          "name": "stdout",
          "text": [
            "Cross validation Scores : [0.82608696 0.82608696 0.86363636 0.95454545 0.86363636]\n",
            "Mean Accuracy from Cross validation :0.8668\n"
          ]
        }
      ]
    },
    {
      "cell_type": "markdown",
      "source": [
        "#### 5. Grid Search\n",
        "- 테스트할 하이퍼파라미터 후보들을 목록으로 만든다.\n",
        "- `GridSearchCV` 도구를 사용해 이 모든 조합에 대해 5-fold cross-validation을 수행\n",
        "- 찾아낸 최고의 성능을 보인 파라미터 조합과 그때의 교차 검증 평균 정확도 출력\n"
      ],
      "metadata": {
        "id": "nmOBvj227x3I"
      }
    },
    {
      "cell_type": "code",
      "source": [
        "from sklearn.model_selection import GridSearchCV\n",
        "param_grid = {\n",
        "    'kernel' : ['rbf', 'poly', 'sigmoid'],\n",
        "    'C' : [0.1, 1, 10, 100],\n",
        "    'gamma' : [1, 0.1, 0.01, 0.001]\n",
        "}\n",
        "\n",
        "# 기본 SVM 모델\n",
        "svm = SVC()\n",
        "\n",
        "# GridSearchCV 생성\n",
        "grid_search = GridSearchCV(estimator=svm, param_grid=param_grid, cv=5, n_jobs=-1)\n",
        "grid_search.fit(X_train_scaled, y_train)\n",
        "\n",
        "print(\"Best parameters found: \", grid_search.best_params_)\n",
        "print(f\"Best cross-validation score: {grid_search.best_score_:.4f}\")"
      ],
      "metadata": {
        "colab": {
          "base_uri": "https://localhost:8080/"
        },
        "id": "IiYTnbG1AfPd",
        "outputId": "bc367d4b-3887-4347-f57e-c0d8646fb7bd"
      },
      "execution_count": 18,
      "outputs": [
        {
          "output_type": "stream",
          "name": "stdout",
          "text": [
            "Best parameters found:  {'C': 100, 'gamma': 0.1, 'kernel': 'rbf'}\n",
            "Best cross-validation score: 0.9549\n"
          ]
        }
      ]
    },
    {
      "cell_type": "markdown",
      "source": [
        "#### 6. 최종 분석\n",
        " - 선형 SVM 평균 정확도 : 0.9458\n",
        " - 임의 설정 RBF SVM 평균 정확도 : 0.8668\n",
        " - Grid Search 최적 RBF SVM 평균 정확도 : 0.9549\n",
        "\n",
        " Grid Search를 통해 찾아낸, `{'C':100, 'gamma':0.1, 'kernel': 'rbf'}` 조합이 단순 선형 SVM보다도, 그리고 임의로 설정했던 RBF SVM보다도 높은 성능을 보여줬습니다. 이는 하이퍼파라미터 튜닝이 모델의 성능을 끌어올리는 데 얼마나 중요한지 명확하게 보여주는 결과입니다.\n",
        "\n",
        " <br>\n",
        "\n",
        " 1. 왜 최종 선택된 커널이 효과적이었나 ?\n",
        "\n",
        " Iris 데이터셋은 전반적으로 선형 분리가 잘 되는 특성을 가지고 있어 선형 커널만으로도 높은 성능을 보였습니다. 하지만 RBF 커널은 데이터를 고차원 공간으로 매핑하여 비선형적인 결정 경계를 만들 수 있으므로, 두 품종이 미세하게 겹치는 영역을 선형 커널보다 더 유연하고 정교하게 구분해낼 수 있었습니다. 최적화된  C와 gamma 값을 통해 RBF 커널이 이 데이터의 특성을 가장 잘 학습했다고 결론 내릴 수 있습니다.\n",
        "\n",
        " 2. 하이퍼파라미터 튜닝이 모델 성능 향상에 도움이 되었는가 ?\n",
        "\n",
        "임의로 설정한 RBF 모델의 평균 정확도는 약 86.7%에 불과했습니다. 하지만 Grid Search를 통해 최적의 하이퍼파라미터를 탐색한 결과, RBF 커널의 성능은 95.5%까지 향상되었습니다. 이는 단순히 기본값을 사용하거나 임의로 파라미터를 설정하는 것보다 체계적인 탐색 과정을 통해 데이터에 가장 적합한 모델을 찾는 것이 왜 중요한지를 명확히 보여줍니다.\n"
      ],
      "metadata": {
        "id": "Zey2Pc38Bjj4"
      }
    }
  ]
}